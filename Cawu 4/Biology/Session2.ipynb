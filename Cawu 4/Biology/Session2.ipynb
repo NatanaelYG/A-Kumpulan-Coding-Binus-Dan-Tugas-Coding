{
 "cells": [
  {
   "cell_type": "code",
   "execution_count": 255,
   "metadata": {},
   "outputs": [
    {
     "name": "stdout",
     "output_type": "stream",
     "text": [
      "ATCGATCGATGCATGCATGCATGCGC\n"
     ]
    }
   ],
   "source": [
    "from Bio.Seq import Seq \n",
    "\n",
    "seq = Seq('ATCGATCGATGCATGCATGCATGCGC')\n",
    "\n",
    "print(seq)"
   ]
  },
  {
   "cell_type": "code",
   "execution_count": 256,
   "metadata": {},
   "outputs": [
    {
     "name": "stdout",
     "output_type": "stream",
     "text": [
      "GC: 0.5384615384615384\n",
      "AT: 0.46153846153846156\n"
     ]
    }
   ],
   "source": [
    "from Bio.SeqUtils import gc_fraction\n",
    "\n",
    "print(f'GC: {gc_fraction(seq)}')\n",
    "\n",
    "print(f'AT: {1 - gc_fraction(seq)}')"
   ]
  },
  {
   "cell_type": "code",
   "execution_count": 257,
   "metadata": {},
   "outputs": [],
   "source": [
    "# user defined\n",
    "\n",
    "def gc_content(seq):\n",
    "    return (seq.count('G') + seq.count('C')) / len(seq) * 100\n",
    "\n",
    "def at_content(seq):\n",
    "    return (seq.count('A') + seq.count('T')) / len(seq) * 100"
   ]
  },
  {
   "cell_type": "code",
   "execution_count": 258,
   "metadata": {},
   "outputs": [
    {
     "name": "stdout",
     "output_type": "stream",
     "text": [
      "GC: 53.84615384615385\n",
      "AT: 46.15384615384615\n"
     ]
    }
   ],
   "source": [
    "print(f'GC: {gc_content(seq)}')\n",
    "print(f'AT: {at_content(seq)}')"
   ]
  },
  {
   "cell_type": "code",
   "execution_count": 259,
   "metadata": {},
   "outputs": [
    {
     "name": "stdout",
     "output_type": "stream",
     "text": [
      "GC: 53.84615384615385\n",
      "AT: 46.15384615384615\n"
     ]
    }
   ],
   "source": [
    "def gc_list(seq):\n",
    "    gc = [x for x in  seq if x == 'G' or x == 'C']\n",
    "    return len(gc) / len(seq) * 100\n",
    "\n",
    "def at_list(seq):\n",
    "    at = [x for x in  seq if x == 'A' or x == 'T']\n",
    "    return len(at) / len(seq) * 100\n",
    "\n",
    "print(f'GC: {gc_list(seq)}')\n",
    "print(f'AT: {at_list(seq)}')"
   ]
  },
  {
   "cell_type": "code",
   "execution_count": 260,
   "metadata": {},
   "outputs": [
    {
     "data": {
      "image/png": "[encoded data removed]",
      "text/plain": [
       "<Figure size 500x300 with 1 Axes>"
      ]
     },
     "metadata": {},
     "output_type": "display_data"
    }
   ],
   "source": [
    "import matplotlib.pyplot as plt\n",
    "gc_percentage = gc_content(seq)\n",
    "at_percentage = at_content(seq)\n",
    "\n",
    "plt.figure(figsize=(5,3))\n",
    "plt.pie([gc_percentage, at_percentage], autopct = '%.2f%%')\n",
    "plt.legend(['GC','AT'])\n",
    "plt.show()"
   ]
  },
  {
   "cell_type": "markdown",
   "metadata": {},
   "source": [
    "Melting Point of DNA "
   ]
  },
  {
   "cell_type": "code",
   "execution_count": 261,
   "metadata": {},
   "outputs": [
    {
     "name": "stdout",
     "output_type": "stream",
     "text": [
      "80.0\n",
      "58.902902071977906\n",
      "63.10770992894254\n"
     ]
    }
   ],
   "source": [
    "from Bio.SeqUtils import MeltingTemp as mt\n",
    "\n",
    "print(mt.Tm_Wallace(seq))\n",
    "print(mt.Tm_GC(seq))\n",
    "print(mt.Tm_NN(seq))"
   ]
  },
  {
   "cell_type": "code",
   "execution_count": 262,
   "metadata": {},
   "outputs": [
    {
     "name": "stdout",
     "output_type": "stream",
     "text": [
      "61\n"
     ]
    }
   ],
   "source": [
    "def wallace(seq):\n",
    "    a_count = seq.count('A')\n",
    "    t_count = seq.count('T')\n",
    "    g_count = seq.count('G')\n",
    "    c_count = seq.count('C')\n",
    "    \n",
    "    if len(seq) < 14:\n",
    "        return (a_count + t_count) * 2 + (g_count + c_count) * 4\n",
    "    else :\n",
    "        return round(64.9 + 41 * (g_count + c_count - 16.4) / len(seq))\n",
    "\n",
    "print(wallace(seq))"
   ]
  },
  {
   "cell_type": "code",
   "execution_count": 263,
   "metadata": {},
   "outputs": [
    {
     "name": "stdout",
     "output_type": "stream",
     "text": [
      "8051.127399999999\n"
     ]
    }
   ],
   "source": [
    "from Bio.SeqUtils import molecular_weight\n",
    "\n",
    "print(molecular_weight(seq))"
   ]
  },
  {
   "cell_type": "code",
   "execution_count": 264,
   "metadata": {},
   "outputs": [
    {
     "name": "stdout",
     "output_type": "stream",
     "text": [
      "TTTTTT\n"
     ]
    }
   ],
   "source": [
    "def nucleotide_grouping(seq, nuc):\n",
    "    n = [x for x in seq if x == nuc]\n",
    "    z = ''.join(n)\n",
    "\n",
    "    return z\n",
    "\n",
    "print(nucleotide_grouping(seq, 'T'))"
   ]
  },
  {
   "cell_type": "code",
   "execution_count": 265,
   "metadata": {},
   "outputs": [
    {
     "name": "stdout",
     "output_type": "stream",
     "text": [
      "1897.2542999999998\n",
      "1843.1745000000003\n",
      "2322.4566\n",
      "2042.2879\n"
     ]
    }
   ],
   "source": [
    "print(molecular_weight(nucleotide_grouping(seq, 'A')))\n",
    "print(molecular_weight(nucleotide_grouping(seq, 'T')))\n",
    "print(molecular_weight(nucleotide_grouping(seq, 'G')))\n",
    "print(molecular_weight(nucleotide_grouping(seq, 'C')))"
   ]
  }
 ],
 "metadata": {
  "kernelspec": {
   "display_name": "Python 3",
   "language": "python",
   "name": "python3"
  },
  "language_info": {
   "codemirror_mode": {
    "name": "ipython",
    "version": 3
   },
   "file_extension": ".py",
   "mimetype": "text/x-python",
   "name": "python",
   "nbconvert_exporter": "python",
   "pygments_lexer": "ipython3",
   "version": "3.12.4"
  }
 },
 "nbformat": 4,
 "nbformat_minor": 2
}
