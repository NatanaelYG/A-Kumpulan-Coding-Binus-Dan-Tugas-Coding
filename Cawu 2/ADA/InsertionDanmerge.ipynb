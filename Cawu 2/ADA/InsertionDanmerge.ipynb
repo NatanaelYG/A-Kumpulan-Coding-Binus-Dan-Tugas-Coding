{
 "cells": [
  {
   "cell_type": "code",
   "execution_count": 9,
   "metadata": {},
   "outputs": [
    {
     "name": "stdout",
     "output_type": "stream",
     "text": [
      "44\n"
     ]
    }
   ],
   "source": [
    "n = 2\n",
    "\n",
    "while n > 2 ** (n/8.0):\n",
    "    n += 1\n",
    "\n",
    "print(n)"
   ]
  },
  {
   "cell_type": "code",
   "execution_count": 13,
   "metadata": {},
   "outputs": [
    {
     "name": "stdout",
     "output_type": "stream",
     "text": [
      "2\n"
     ]
    }
   ],
   "source": [
    "i=1\n",
    "\n",
    "while(i>0):\n",
    "\n",
    "    if (100*(i**2) < 2**i):\n",
    "\n",
    "        print(i)\n",
    "\n",
    "    break\n",
    "\n",
    "i+=1\n",
    "\n",
    "print(i)"
   ]
  },
  {
   "cell_type": "code",
   "execution_count": 24,
   "metadata": {},
   "outputs": [
    {
     "name": "stdout",
     "output_type": "stream",
     "text": [
      "5\n",
      "4\n",
      "3\n",
      "2\n",
      "Jumlah dari 5 bilangan ganjil pertama adalah 25\n"
     ]
    }
   ],
   "source": [
    "def SumOddNumbers(N):\n",
    "    # Basis rekursi: jika N adalah 1, kembalikan 1\n",
    "    if N == 1:\n",
    "        return 1\n",
    "    # Rekursi: jumlah dari N bilangan ganjil pertama\n",
    "    else:\n",
    "        print(N)\n",
    "        return (2*N - 1) + SumOddNumbers(N - 1)\n",
    "\n",
    "# Contoh penggunaan:\n",
    "N = 5\n",
    "print(f\"Jumlah dari {N} bilangan ganjil pertama adalah {SumOddNumbers(N)}\")"
   ]
  },
  {
   "cell_type": "code",
   "execution_count": null,
   "metadata": {},
   "outputs": [],
   "source": []
  }
 ],
 "metadata": {
  "kernelspec": {
   "display_name": "Python 3",
   "language": "python",
   "name": "python3"
  },
  "language_info": {
   "codemirror_mode": {
    "name": "ipython",
    "version": 3
   },
   "file_extension": ".py",
   "mimetype": "text/x-python",
   "name": "python",
   "nbconvert_exporter": "python",
   "pygments_lexer": "ipython3",
   "version": "3.11.9"
  }
 },
 "nbformat": 4,
 "nbformat_minor": 2
}
