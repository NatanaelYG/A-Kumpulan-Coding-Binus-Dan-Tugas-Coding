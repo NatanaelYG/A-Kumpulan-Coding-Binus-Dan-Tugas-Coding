{
 "cells": [
  {
   "cell_type": "code",
   "execution_count": 41,
   "metadata": {},
   "outputs": [
    {
     "name": "stdout",
     "output_type": "stream",
     "text": [
      "B\n",
      "0\n",
      "1\n",
      "2\n",
      "3\n",
      "4\n",
      "5\n",
      "6\n",
      "7\n",
      "8\n",
      "9\n"
     ]
    }
   ],
   "source": [
    "#Condition & Loop\n",
    "#if else, elif, switch case\n",
    "\n",
    "nilai = 75\n",
    "\n",
    "if(nilai > 80):\n",
    "    print(\"A\")\n",
    "elif(nilai > 70):\n",
    "    print(\"B\")\n",
    "else:\n",
    "    print(\"C\")\n",
    "\n",
    "# loop: for, while, do while\n",
    "for i in range(10):\n",
    "    print(i)\n",
    "    "
   ]
  },
  {
   "cell_type": "code",
   "execution_count": 18,
   "metadata": {},
   "outputs": [
    {
     "name": "stdout",
     "output_type": "stream",
     "text": [
      "Hello\n",
      "7\n",
      "Kata ini adalah Hello World!!\n",
      "Kata ini adalah Hello World\n",
      "Kasian\n",
      "10\n"
     ]
    }
   ],
   "source": [
    "#Variable: int str, boolean, float, character\n",
    "\n",
    "number = 7\n",
    "kata = \"Hello\"\n",
    "print(kata)\n",
    "print(number)\n",
    "print(\"Kata ini adalah \" + kata + \" World!!\")\n",
    "print(f\"Kata ini adalah {kata} World\")\n",
    "\n",
    "makanan = input(\"Nama Makanan: \")\n",
    "print(makanan)\n",
    "\n",
    "Umur = int(input(\"Masukkan Umur\"))\n",
    "print(Umur)"
   ]
  },
  {
   "cell_type": "code",
   "execution_count": 40,
   "metadata": {},
   "outputs": [
    {
     "name": "stdout",
     "output_type": "stream",
     "text": [
      "15Agam24{1, 2, 6, 7}\n",
      "(3, 3)\n",
      "Angka 25\n"
     ]
    },
    {
     "data": {
      "text/plain": [
       "'xc Adalah Kalimat'"
      ]
     },
     "execution_count": 40,
     "metadata": {},
     "output_type": "execute_result"
    }
   ],
   "source": [
    "#List []\n",
    "\n",
    "listVar = [1,5, \"Agam\",2,4]\n",
    "for i in listVar:\n",
    "    print(i,end=\"\")\n",
    "\n",
    "#Set {} -> unique\n",
    "setVar = {2,2,2,6,1,7}\n",
    "print(setVar)\n",
    "\n",
    "#Tuple () -> immuteable (fix)\n",
    "tupleVar = (3,3)\n",
    "   # tuple[0] = 8\n",
    "print(tupleVar)\n",
    "\n",
    "#Dictionary {}\n",
    "dictVar = {\n",
    "    9: 25,\n",
    "    \"9\": \"Angka 25\",\n",
    "    }\n",
    "print(dictVar[\"9\"])\n",
    "\n",
    "#String Function\n",
    "kalimat = \"Ini Adalah Kalimat\"\n",
    "kalimat.count(\"i\")\n",
    "kalimat.isascii()\n",
    "kalimat.replace(\"Ini\",\"xc\")"
   ]
  },
  {
   "cell_type": "code",
   "execution_count": 12,
   "metadata": {},
   "outputs": [
    {
     "data": {
      "text/plain": [
       "array([2, 4, 5])"
      ]
     },
     "execution_count": 12,
     "metadata": {},
     "output_type": "execute_result"
    }
   ],
   "source": [
    "#Numpy\n",
    "import numpy as np #rename np\n",
    "np.min([5,3,2,1])\n",
    "\n",
    "np.abs(-6)\n",
    "np.array([2,4,5])\n"
   ]
  }
 ],
 "metadata": {
  "kernelspec": {
   "display_name": "Python 3",
   "language": "python",
   "name": "python3"
  },
  "language_info": {
   "codemirror_mode": {
    "name": "ipython",
    "version": 3
   },
   "file_extension": ".py",
   "mimetype": "text/x-python",
   "name": "python",
   "nbconvert_exporter": "python",
   "pygments_lexer": "ipython3",
   "version": "3.11.7"
  }
 },
 "nbformat": 4,
 "nbformat_minor": 2
}
