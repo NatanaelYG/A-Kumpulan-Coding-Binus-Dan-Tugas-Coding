{
 "cells": [
  {
   "cell_type": "code",
   "execution_count": 4,
   "metadata": {},
   "outputs": [
    {
     "name": "stdout",
     "output_type": "stream",
     "text": [
      "21.583893023276122\n"
     ]
    }
   ],
   "source": [
    "import numpy as np\n",
    "\n",
    "def f(x):\n",
    "    return np.sin(x)**2 + np.sin(x) + 2\n",
    "\n",
    "x1 = -np.pi\n",
    "x2 = 2*np.pi\n",
    "\n",
    "n = 27\n",
    "\n",
    "lebar_kotak = (x2-x1) / (n-1)\n",
    "\n",
    "x = np.linspace(x1, x2, n)\n",
    "y = f(x)\n",
    "\n",
    "trapezoid = (y[0] + 2 * sum(y[1:n-1]) + y[n-1]) * lebar_kotak / 2\n",
    "print(trapezoid)"
   ]
  }
 ],
 "metadata": {
  "kernelspec": {
   "display_name": "Python 3",
   "language": "python",
   "name": "python3"
  },
  "language_info": {
   "codemirror_mode": {
    "name": "ipython",
    "version": 3
   },
   "file_extension": ".py",
   "mimetype": "text/x-python",
   "name": "python",
   "nbconvert_exporter": "python",
   "pygments_lexer": "ipython3",
   "version": "3.11.9"
  }
 },
 "nbformat": 4,
 "nbformat_minor": 2
}
