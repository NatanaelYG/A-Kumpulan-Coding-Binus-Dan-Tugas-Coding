{
 "cells": [
  {
   "cell_type": "code",
   "execution_count": 1,
   "metadata": {},
   "outputs": [],
   "source": [
    "import numpy as np\n",
    "\n",
    "def f(x):\n",
    "    return 4*(x**4) + 2*(x**3) - 6*x"
   ]
  },
  {
   "cell_type": "code",
   "execution_count": 3,
   "metadata": {},
   "outputs": [
    {
     "name": "stdout",
     "output_type": "stream",
     "text": [
      "[-3.         -2.79310345 -2.5862069  -2.37931034 -2.17241379 -1.96551724\n",
      " -1.75862069 -1.55172414 -1.34482759 -1.13793103 -0.93103448 -0.72413793\n",
      " -0.51724138 -0.31034483 -0.10344828  0.10344828  0.31034483  0.51724138\n",
      "  0.72413793  0.93103448  1.13793103  1.34482759  1.55172414  1.75862069\n",
      "  1.96551724  2.17241379  2.37931034  2.5862069   2.79310345  3.        ]\n",
      "[288.         216.62728109 159.86404272 115.5297654   81.61983709\n",
      "  56.30555324  37.93411671  25.02863784  16.28813442  10.58753169\n",
      "   6.97766234   4.68526653   3.11299187   1.8393934    0.61893363\n",
      "  -0.61801745  -1.76518244  -2.54037646  -2.48550717  -0.96657481\n",
      "   2.82632787   9.87901555  21.35321039  38.58654198  63.09254738\n",
      "  96.56067108 140.85626505 198.02058871 270.27080891 360.        ]\n",
      "384.4323034267851\n",
      "399.328855150923\n",
      "387.26026006636687\n"
     ]
    }
   ],
   "source": [
    "x1 = -3\n",
    "x2 = 3\n",
    "\n",
    "n = 30\n",
    "\n",
    "lebar_kotak = (x2-x1) / (n-1)\n",
    "\n",
    "x = np.linspace(x1, x2, n)\n",
    "print(x)\n",
    "\n",
    "y = f(x)\n",
    "print(y)\n",
    "\n",
    "left = lebar_kotak * sum(y[0:n-1])\n",
    "print(left)\n",
    "\n",
    "right = lebar_kotak * sum(y[1:n])\n",
    "print(right)\n",
    "\n",
    "x_mid = (x[0:n-1] + x[1:n]) / 2\n",
    "y_mid = f(x_mid)\n",
    "mid_riemann = lebar_kotak * sum(y_mid)\n",
    "print(mid_riemann)"
   ]
  }
 ],
 "metadata": {
  "kernelspec": {
   "display_name": "Python 3",
   "language": "python",
   "name": "python3"
  },
  "language_info": {
   "codemirror_mode": {
    "name": "ipython",
    "version": 3
   },
   "file_extension": ".py",
   "mimetype": "text/x-python",
   "name": "python",
   "nbconvert_exporter": "python",
   "pygments_lexer": "ipython3",
   "version": "3.11.9"
  }
 },
 "nbformat": 4,
 "nbformat_minor": 2
}
