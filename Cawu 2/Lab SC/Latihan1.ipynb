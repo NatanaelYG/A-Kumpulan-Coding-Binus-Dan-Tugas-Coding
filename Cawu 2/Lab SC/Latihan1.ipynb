{
 "cells": [
  {
   "cell_type": "code",
   "execution_count": 1,
   "metadata": {},
   "outputs": [],
   "source": [
    "#Gauss Seidel\n",
    "import numpy as np\n",
    "\n",
    "x = [\n",
    "        [\n",
    "            [4, 2, -1],\n",
    "            [1, -5, 2],\n",
    "            [2, -1, -4]\n",
    "        ],\n",
    "        [\n",
    "            [3, 4, 5],\n",
    "            [-3, 7, -4],\n",
    "            [1, -4, -2]\n",
    "        ],\n",
    "        [\n",
    "            [9, -2, 3, 2],\n",
    "            [2, 8, -2, 3],\n",
    "            [-3, 2, 11, -4],\n",
    "            [-2, 3, 2, 10]\n",
    "        ]\n",
    "]\n",
    "\n",
    "y = [\n",
    "    [41, -10, 1],\n",
    "    [34, -32, 62],\n",
    "    [55, -14, 12, -21]\n",
    "]\n",
    "\n",
    "def checkDiag(x,y):\n",
    "    xArr = np.array(x)\n",
    "\n",
    "    diag = np.diag(np.abs(xArr))\n",
    "    sumNoDiag = np.sum(np.abs(xArr), axis = 1) - diag\n",
    "\n",
    "    if np.all(diag > sumNoDiag):\n",
    "        print('diagonally dominant\\n')\n",
    "        gaussSeidel(x,y)\n",
    "    else:\n",
    "        print('not diagonally dominant\\n')\n",
    "\n",
    "def gaussSeidel(x, y, eps = 0.022):\n",
    "    arrKiri = np.array(x)\n",
    "    arrKanan = np.array(y)\n",
    "\n",
    "    x_old = np.zeros(arrKiri.shape[0])\n",
    "    diagonal = np.diag(arrKiri)\n",
    "    arrKiri = -arrKiri\n",
    "    np.fill_diagonal(arrKiri, 0)\n",
    "    \n",
    "    for i in range(15):\n",
    "        x_new = np.array(x_old)\n",
    "\n",
    "        for j, row in enumerate(arrKiri):\n",
    "            x_new[j] = (arrKanan[j] + np.dot(row, x_new))/ diagonal[j]\n",
    "\n",
    "        print(f'Iterasi ke - {i+1} x = {x_new}')\n",
    "\n",
    "        distance = np.sqrt(np.dot((x_new - x_old), (x_new - x_old)))\n",
    "\n",
    "        if distance < eps:\n",
    "            print('converged')\n",
    "            break\n",
    "\n",
    "        x_old = x_new"
   ]
  },
  {
   "cell_type": "code",
   "execution_count": null,
   "metadata": {},
   "outputs": [],
   "source": [
    "for i, (ruasKiri, ruasKanan) in enumerate(zip(x,y)):\n",
    "    print(ruasKiri)\n",
    "    print(ruasKanan)\n",
    "    checkDiag(ruasKiri, ruasKanan)"
   ]
  },
  {
   "cell_type": "code",
   "execution_count": 1,
   "metadata": {},
   "outputs": [],
   "source": [
    "#Least Square Regression\n",
    "import numpy as np\n",
    "import matplotlib.pyplot as plt\n",
    "\n",
    "x = [1.3604935458559992, 1.5853985257024064, 0.5679347497479994, 0.21802392874941856, 0.06206493009274472, 1.6038707575944073, 1.5373131133875226, 1.4259588903280196, 0.43245973529077086, 0.257850612191316, 0.8605233835228834, 1.2181914607549382, 1.685409170644646, 0.12380139845637994, 0.13435858737521222, 0.4033370073012925, 0.619722978580614, 1.8628033810771025, 0.40953337540132173, 0.30874442757643994, 1.6891968832960647, 1.4690587356094642, 1.0467612052854245, 1.9070607586182264, 0.3931032996568269, 1.5213063293089268, 0.6792243360513193, 1.0368081016233708, 0.6336032973174668, 0.374905103792015, 1.771763274305583, 1.1559028146600263, 0.17306906153876445, 0.40602786961550885, 1.9021950999201134, 0.7404956567184318, 0.9651727271458386, 1.9916255775351712, 0.2532403679742896, 1.2463066512639314, 1.241263902486962, 1.7213322132140918, 1.3414349017801748, 0.8749630082448829, 0.2365239274541533, 0.6619637276533039, 0.14776060842856809, 0.44702252616842086, 0.7825174342129761, 0.6568730252477795]\n",
    "y = [1.8860894486952637, 3.4538075220063913, 0.4326122937324488, -0.16109290897894835, 1.0258216227918515, 2.5614347377115334, 3.9711567124023173, 2.5050179041851806, 0.44187536608782496, 0.32763720038740907, 1.8914749598149787, 2.978721894531936, 2.5263464521598777, 1.2309986450932542, -0.0002015887018562701, 0.40845185338253454, 1.261882153097084, 2.890613004730457, 1.5142607191006958, 1.4558182978954157, 3.0535665102311498, 2.5305265858696826, 2.9943005644276735, 4.775595583754577, 0.2511451686187445, 2.662286088591588, 0.7013711036412655, 1.3574878178829441, 0.45879261586108844, 1.041383576988614, 3.2345537741888895, 2.9442588452869383, 0.32481178798514976, 0.5676922986388366, 4.6507103639541985, 1.9206250787747186, 2.0631617694637643, 4.718498033969695, 0.328918880734296, 2.5468066110409096, 2.56571088586923, 3.1028383540315225, 1.916718978555218, 1.9674896037631926, 0.20908513317900246, 1.3752289600324012, 0.21057773380247213, 1.1962232390302614, 0.7068252906124675, 1.428520921524234]\n",
    "\n",
    "x = np.array(x)\n",
    "y = np.array(y)\n",
    "\n",
    "A = np.vstack((x, np.ones(len(x)))).T\n",
    "\n",
    "y_new = y[:, np.newaxis]\n",
    "\n",
    "pinv = np.linalg.pinv(A)\n",
    "beta = np.dot(pinv, y_new)\n",
    "\n",
    "f = beta[0]*x + beta[1]\n",
    "\n",
    "plt.plot(x, y,\"ob\")\n",
    "plt.plot(x, f,\"-r\")"
   ]
  },
  {
   "cell_type": "code",
   "execution_count": 2,
   "metadata": {},
   "outputs": [],
   "source": [
    "#Polynomial Regression Gak Masuk\n",
    "import numpy as np\n",
    "import matplotlib.pyplot as plt\n",
    "\n",
    "x = [0, 1, 2, 3, 4, 5, 6, 7, 8]\n",
    "y = [0, 0.8, 0.9, 0.2, -0.8, -1, -0.8, -0.4, -0.2]\n",
    "\n",
    "x = np.array(x)\n",
    "y = np.array(y)\n",
    "\n",
    "plt.figure(figsize=(16,16))\n",
    "\n",
    "for degree in range(1,7):\n",
    "    coeff = np.polyfit(x, y, degree)\n",
    "    plt.subplot(3, 3, degree)\n",
    "    plt.title(f'Polynomial order {degree}')\n",
    "    plt.xlabel(\"X\")\n",
    "    plt.ylabel(\"Y\")\n",
    "    plt.plot(x, y,\"or\")\n",
    "    plt.plot(x, np.polyval(coeff, x), \"-b\")"
   ]
  },
  {
   "cell_type": "code",
   "execution_count": 2,
   "metadata": {},
   "outputs": [
    {
     "name": "stdout",
     "output_type": "stream",
     "text": [
      "Iteration of 1. new root = 3.330357142857143\n",
      "Iteration of 2. new root = 2.7705278067251076\n",
      "Iteration of 3. new root = 2.3014692834655897\n",
      "Iteration of 4. new root = 1.9076486911265778\n",
      "Iteration of 5. new root = 1.5780738506315775\n",
      "Iteration of 6. new root = 1.3101344278134677\n",
      "Iteration of 7. new root = 1.1168277838634215\n",
      "Iteration of 8. new root = 1.0204619280744585\n",
      "Iteration of 9. new root = 1.0006965918207418\n",
      "the root of equation is: 1.0006965918207418\n"
     ]
    }
   ],
   "source": [
    "#Newton_raphson\n",
    "import numpy as np\n",
    "\n",
    "def f(x):\n",
    "    return x**6 + 2*x**2 - 3\n",
    "\n",
    "#Integral dari f(x)\n",
    "def g(x):\n",
    "    return 6*x**5 + 4*x\n",
    "\n",
    "def newton_raphson(x0, tolerance = 0.01, iter = 15):\n",
    "    for i in range(iter):\n",
    "        x1 = x0 - f(x0)/g(x0)\n",
    "        print(f'Iteration of {i+1}. new root = {x1}')\n",
    "        if np.abs(f(x1)) < tolerance:\n",
    "            print(f'the root of equation is: {x1}')\n",
    "            return\n",
    "        x0 = x1\n",
    "    print(\"Maximum iterations reached. No root found within tolerance.\")\n",
    "\n",
    "# Initial guess\n",
    "x_initial = 4\n",
    "newton_raphson(x_initial, tolerance=0.01, iter=15)"
   ]
  },
  {
   "cell_type": "code",
   "execution_count": 25,
   "metadata": {},
   "outputs": [
    {
     "name": "stdout",
     "output_type": "stream",
     "text": [
      "a = 3 and b = 4 not bound a root\n",
      "root of the function = -1.3180370330810547 with coordinates of x1 = -10 and x2 = 17\n",
      "root of the function = -1.318063735961914 with coordinates of x1 = 10 and x2 = -15\n",
      "root of the function = -1.318023681640625 with coordinates of x1 = -2 and x2 = 4\n",
      "root of the function = -1.318084716796875 with coordinates of x1 = 12 and x2 = -5\n",
      "a = -8 and b = -13 not bound a root\n",
      "root of the function = -1.31805419921875 with coordinates of x1 = 7 and x2 = -21\n"
     ]
    }
   ],
   "source": [
    "#Bisection GAK MASUK \n",
    "import numpy as np\n",
    "\n",
    "coordinates = [\n",
    "    [3, 4],\n",
    "    [-10, 17],\n",
    "    [10, -15],\n",
    "    [-2, 4],\n",
    "    [12, -5],\n",
    "    [-8, -13],\n",
    "    [7, -21],\n",
    "]\n",
    "\n",
    "def f(x):\n",
    "    return 10*x**3 + 8*x**2 + 9\n",
    "\n",
    "def bisection_method(x1, x2, x1_init, x2_init, tolerance = 0.001):\n",
    "    if(np.sign(f(x1)) == np.sign(f(x2))):\n",
    "        print(f'a = {x1_init} and b = {x2_init} not bound a root')\n",
    "        return\n",
    "\n",
    "    x_new = (x1+x2)/2\n",
    "\n",
    "    if(np.abs(f(x_new)) < tolerance):\n",
    "        print(f'root of the function = {x_new} with coordinates of x1 = {x1_init} and x2 = {x2_init}')\n",
    "        return x_new\n",
    "    \n",
    "    if(np.sign(f(x_new)) == np.sign(f(x1))):\n",
    "        return bisection_method(x_new, x2, x1_init, x2_init)\n",
    "        \n",
    "    if(np.sign(f(x_new)) == np.sign(f(x2))):\n",
    "        return bisection_method(x1, x_new, x1_init, x2_init)\n",
    "\n",
    "for coor in coordinates:\n",
    "    bisection_method(coor[0], coor[1], coor[0], coor[1])"
   ]
  },
  {
   "cell_type": "code",
   "execution_count": null,
   "metadata": {},
   "outputs": [],
   "source": [
    "#Integral Reimann\n",
    "import numpy as np\n",
    "\n",
    "def f(x):\n",
    "    return 4*x**4 + 2*x**3 - 6*x"
   ]
  },
  {
   "cell_type": "code",
   "execution_count": 5,
   "metadata": {},
   "outputs": [
    {
     "name": "stdout",
     "output_type": "stream",
     "text": [
      "Left : 653.328177601833\n",
      "Right : 653.3281776018329\n",
      "Mid : 637.6278044787691\n"
     ]
    }
   ],
   "source": [
    "x1 = -3\n",
    "x2 = 3\n",
    "\n",
    "n = 30\n",
    "\n",
    "lebar_kotak = (x2-x1) / (n-1)\n",
    "\n",
    "x = np.linspace(x1, x2, n)\n",
    "\n",
    "y = f(x)\n",
    "\n",
    "left = lebar_kotak * sum(y[0:n-1])\n",
    "print(f'Left : {left}')\n",
    "\n",
    "right = lebar_kotak * sum(y[1:n])\n",
    "print(f'Right : {right}')\n",
    "\n",
    "x_mid = (x[0:n-1] + x[1:n]) / 2\n",
    "y_mid = f(x_mid)\n",
    "mid_riemann = lebar_kotak * sum(y_mid)\n",
    "print(f'Mid : {mid_riemann}')"
   ]
  },
  {
   "cell_type": "code",
   "execution_count": 2,
   "metadata": {},
   "outputs": [
    {
     "name": "stdout",
     "output_type": "stream",
     "text": [
      "21.583893023276122\n"
     ]
    }
   ],
   "source": [
    "#Trapezoi Rule\n",
    "import numpy as np\n",
    "\n",
    "def f(x):\n",
    "    return np.sin(x)**2 + np.sin(x) + 2\n",
    "\n",
    "x1 = -np.pi\n",
    "x2 = 2*np.pi\n",
    "\n",
    "n = 27\n",
    "\n",
    "lebar_kotak = (x2-x1) / (n-1)\n",
    "\n",
    "x = np.linspace(x1, x2, n)\n",
    "y = f(x)\n",
    "\n",
    "trapezoid = (y[0] + 2 * sum(y[1:n-1]) + y[n-1]) * lebar_kotak / 2\n",
    "print(trapezoid)"
   ]
  }
 ],
 "metadata": {
  "kernelspec": {
   "display_name": "Python 3",
   "language": "python",
   "name": "python3"
  },
  "language_info": {
   "codemirror_mode": {
    "name": "ipython",
    "version": 3
   },
   "file_extension": ".py",
   "mimetype": "text/x-python",
   "name": "python",
   "nbconvert_exporter": "python",
   "pygments_lexer": "ipython3",
   "version": "3.11.9"
  }
 },
 "nbformat": 4,
 "nbformat_minor": 2
}
