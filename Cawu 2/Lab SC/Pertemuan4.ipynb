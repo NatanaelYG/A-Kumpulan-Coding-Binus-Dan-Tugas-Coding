{
 "cells": [
  {
   "cell_type": "code",
   "execution_count": 33,
   "metadata": {},
   "outputs": [
    {
     "name": "stdout",
     "output_type": "stream",
     "text": [
      "Root is :  2.449462890625\n"
     ]
    }
   ],
   "source": [
    "#Root Finding\n",
    "import numpy as np\n",
    "\n",
    "def f(x):\n",
    "    return x**2 - 6\n",
    "\n",
    "def bisection_method(x1, x2, tolerance = 0.001):\n",
    "    if(np.sign(f(x1)) == np.sign(f(x2))):\n",
    "        print(\"Invalid Coordinate\")\n",
    "        return\n",
    "    \n",
    "    x_baru = (x1+x2)/2\n",
    "\n",
    "    if(np.abs(f(x_baru)) < tolerance):\n",
    "        print(\"Root is : \", x_baru)\n",
    "        return\n",
    "    if(np.sign(f(x_baru)) == np.sign(f(x1))):\n",
    "        #panggil ulang f(x)\n",
    "        bisection_method(x_baru, x2)\n",
    "        return\n",
    "    if(np.sign(f(x_baru)) == np.sign(f(x2))):\n",
    "        #panggil ulang f(x)\n",
    "        bisection_method(x1, x_baru)\n",
    "        return\n",
    "    \n",
    "    \n",
    "#bisection_method\n",
    "bisection_method(2,3)"
   ]
  },
  {
   "cell_type": "code",
   "execution_count": 34,
   "metadata": {},
   "outputs": [
    {
     "name": "stdout",
     "output_type": "stream",
     "text": [
      "Root is :  2.4494897959183675\n"
     ]
    }
   ],
   "source": [
    "#tan 0 = O/A\n",
    "#tan o = f(x0)/x0-x1\n",
    "#f'(x0)= f(x0)/x0-x1\n",
    "\n",
    "#x0-x1 = f(x0)/f'(x0)\n",
    "#x1 = x0 + -f(x0)/f'(x0)f \n",
    "\n",
    "def f(x):\n",
    "    return x**2 - 6\n",
    "\n",
    "def g(x):\n",
    "    return 2*x\n",
    "def newton_raphson(x0, tolerance = 0.001):\n",
    "    x1 = x0 - (f(x0)/g(x0))\n",
    "    if(np.abs(f(x1)) < tolerance):\n",
    "        print(\"Root is : \", x1)\n",
    "        return\n",
    "    newton_raphson(x1)\n",
    "    \n",
    "newton_raphson(3)"
   ]
  }
 ],
 "metadata": {
  "kernelspec": {
   "display_name": "Python 3",
   "language": "python",
   "name": "python3"
  },
  "language_info": {
   "codemirror_mode": {
    "name": "ipython",
    "version": 3
   },
   "file_extension": ".py",
   "mimetype": "text/x-python",
   "name": "python",
   "nbconvert_exporter": "python",
   "pygments_lexer": "ipython3",
   "version": "3.11.9"
  }
 },
 "nbformat": 4,
 "nbformat_minor": 2
}
