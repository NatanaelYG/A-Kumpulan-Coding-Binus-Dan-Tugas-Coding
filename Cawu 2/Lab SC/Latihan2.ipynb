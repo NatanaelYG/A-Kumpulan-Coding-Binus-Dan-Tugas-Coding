{
 "cells": [
  {
   "cell_type": "code",
   "execution_count": 1,
   "metadata": {},
   "outputs": [],
   "source": [
    "#Gauss Seidel\n",
    "import numpy as np\n",
    "\n",
    "Xs = [\n",
    "        [\n",
    "            [20, 2, -4],\n",
    "            [4, -30, 2],\n",
    "            [-5, -7, 25]\n",
    "        ],\n",
    "        [\n",
    "            [-40, 5, -10],\n",
    "            [35, -80, 15],\n",
    "            [-20, -10, 70]\n",
    "        ],\n",
    "        [\n",
    "            [-60, -8, 15, -20],\n",
    "            [10, -40, 5, -2],\n",
    "            [-35, 10, 180, -30],\n",
    "            [30, -50, -40, -80]\n",
    "        ],\n",
    "        [\n",
    "            [150, -30, -50, 25],\n",
    "            [-60, 200, -40, -25],\n",
    "            [-40, 15, -220, 50],\n",
    "            [25, -45, -60, 120]\n",
    "        ],\n",
    "        [\n",
    "            [30, -5, 20],\n",
    "            [-10, 70, 40],\n",
    "            [-30, -20, 150]\n",
    "        ],\n",
    "        [\n",
    "            [-20, -10, 30, -10],\n",
    "            [80, 90, -30, -30],\n",
    "            [-50, 90, 280, 30],\n",
    "            [100, -60, -90, -180]\n",
    "        ]\n",
    "]\n",
    "\n",
    "Ys = [\n",
    "    [11, 10, -22],\n",
    "    [13, -6, -28],\n",
    "    [60, 30, -31, -90],\n",
    "    [-193, 221, 255, -277],\n",
    "    [-30.33, 55.91, -32.91],\n",
    "    [22.76, -30.91, 34.71, -70.96]\n",
    "]\n",
    "\n",
    "\n",
    "def checkDiag(x,y):\n",
    "    xArr = np.array(x)\n",
    "\n",
    "    diag = np.diag(np.abs(xArr))\n",
    "    sumNoDiag = np.sum(np.abs(xArr), axis = 1) - diag\n",
    "\n",
    "    if np.all(diag > sumNoDiag):\n",
    "        print('diagonally dominant\\n')\n",
    "        gaussSeidel(x,y)\n",
    "    else :\n",
    "        print('not diagonally dominant\\n')\n",
    "\n",
    "def gaussSeidel(x,y, eps = 0.000083):\n",
    "    arrKiri = np.array(x)\n",
    "    arrKanan = np.array(y)\n",
    "\n",
    "    x_old = np.zeros(arrKiri.shape[0])\n",
    "    diagonal = np.diag(arrKiri)\n",
    "    arrKiri = -arrKiri\n",
    "    np.fill_diagonal(arrKiri, 0)\n",
    "\n",
    "    for i in range(5):\n",
    "        x_new = np.array(x_old)\n",
    "\n",
    "        for j, row in enumerate(arrKiri):\n",
    "            x_new[j] = (arrKanan[j] + np.dot(row, x_new))/ diagonal[j]\n",
    "\n",
    "        print(f'iter: {i+1} {x_new}')\n",
    "\n",
    "        distance = np.sqrt(np.dot((x_new - x_old), (x_new - x_old)))\n",
    "\n",
    "        if distance < eps:\n",
    "            print('converged\\n')\n",
    "            break\n",
    "\n",
    "        x_old = x_new"
   ]
  },
  {
   "cell_type": "code",
   "execution_count": 2,
   "metadata": {},
   "outputs": [
    {
     "name": "stdout",
     "output_type": "stream",
     "text": [
      "[[20, 2, -4], [4, -30, 2], [-5, -7, 25]]\n",
      "[11, 10, -22]\n",
      "diagonally dominant\n",
      "\n",
      "iter: 1 [ 0.55   -0.26   -0.8428]\n",
      "iter: 2 [ 0.40744    -0.33519467 -0.89236651]\n",
      "iter: 3 [ 0.40504617 -0.33881828 -0.89385988]\n",
      "iter: 4 [ 0.40510985 -0.33890935 -0.89387265]\n",
      "iter: 5 [ 0.40511641 -0.33890932 -0.89387133]\n",
      "converged\n",
      "\n",
      "[[-40, 5, -10], [35, -80, 15], [-20, -10, 70]]\n",
      "[13, -6, -28]\n",
      "diagonally dominant\n",
      "\n",
      "iter: 1 [-0.325      -0.0671875  -0.50245536]\n",
      "iter: 2 [-0.2077846  -0.11011614 -0.47509791]\n",
      "iter: 3 [-0.21999004 -0.1103265  -0.47861523]\n",
      "iter: 4 [-0.21913701 -0.1106128  -0.4784124 ]\n",
      "iter: 5 [-0.2192235  -0.11061261 -0.47843709]\n",
      "[[-60, -8, 15, -20], [10, -40, 5, -2], [-35, 10, 180, -30], [30, -50, -40, -80]]\n",
      "[60, 30, -31, -90]\n",
      "not diagonally dominant\n",
      "\n",
      "[[150, -30, -50, 25], [-60, 200, -40, -25], [-40, 15, -220, 50], [25, -45, -60, 120]]\n",
      "[-193, 221, 255, -277]\n",
      "not diagonally dominant\n",
      "\n",
      "[[30, -5, 20], [-10, 70, 40], [-30, -20, 150]]\n",
      "[-30.33, 55.91, -32.91]\n",
      "diagonally dominant\n",
      "\n",
      "iter: 1 [-1.011       0.65428571 -0.3343619 ]\n",
      "iter: 2 [-0.67904444  0.89277188 -0.23617264]\n",
      "iter: 3 [-0.70475626  0.83299061 -0.24928584]\n",
      "iter: 4 [-0.70597767  0.84030938 -0.24855428]\n",
      "iter: 5 [-0.70524558  0.83999594 -0.24844966]\n",
      "[[-20, -10, 30, -10], [80, 90, -30, -30], [-50, 90, 280, 30], [100, -60, -90, -180]]\n",
      "[22.76, -30.91, 34.71, -70.96]\n",
      "not diagonally dominant\n",
      "\n"
     ]
    }
   ],
   "source": [
    "for i, (ruasKiri, ruasKanan) in enumerate(zip(Xs, Ys)):\n",
    "    print(ruasKiri)\n",
    "    print(ruasKanan)\n",
    "    checkDiag(ruasKiri, ruasKanan)"
   ]
  },
  {
   "cell_type": "code",
   "execution_count": 14,
   "metadata": {},
   "outputs": [
    {
     "data": {
      "text/plain": [
       "<matplotlib.legend.Legend at 0x26bd0c42ad0>"
      ]
     },
     "execution_count": 14,
     "metadata": {},
     "output_type": "execute_result"
    },
    {
     "data": {
      "image/png": "[encoded data removed]",
      "text/plain": [
       "<Figure size 640x480 with 1 Axes>"
      ]
     },
     "metadata": {},
     "output_type": "display_data"
    }
   ],
   "source": [
    "#Least Square Regression\n",
    "import numpy as np\n",
    "import matplotlib.pyplot as plt\n",
    "\n",
    "xs = [13, 17, 18, 21, 22, 25, 31, 32, 41, 51, 62, 24, 19, 32, 26, 22, 25, 27, 45, 35, 63, 64, 70, 90, 82, 42]\n",
    "ys = [5, 14, 17, 16, 24, 19, 32, 26, 22, 25, 27, 30, 31, 32, 33, 34, 35, 36, 37, 38, 39, 40, 41, 42, 43, 44]\n",
    "\n",
    "x = np.array(xs)\n",
    "y = np.array(ys)\n",
    "\n",
    "A = np.vstack((x, np.ones(len(x)))).T\n",
    "\n",
    "y_new = y[:, np.newaxis]\n",
    "\n",
    "pinv = np.linalg.pinv(A)\n",
    "beta = np.dot(pinv, y_new)\n",
    "\n",
    "f = beta[0]*x - beta[1]\n",
    "\n",
    "plt.plot(x,y,\".b\")\n",
    "plt.plot(x,f,\"-r\")\n",
    "plt.xlabel(\"x\")\n",
    "plt.ylabel(\"y\")\n",
    "plt.legend([\"x y coordinates\", \"Least Square Regression\"])"
   ]
  },
  {
   "cell_type": "code",
   "execution_count": 15,
   "metadata": {},
   "outputs": [
    {
     "name": "stdout",
     "output_type": "stream",
     "text": [
      "Iteration of 1. new root = 66.72824806575107\n",
      "Iteration of 2. new root = 44.54453099305587\n",
      "Iteration of 3. new root = 29.751554656962874\n",
      "Iteration of 4. new root = 19.8838054875997\n",
      "Iteration of 5. new root = 13.296620423028507\n",
      "Iteration of 6. new root = 8.89205332717158\n",
      "Iteration of 7. new root = 5.9358387892207904\n",
      "Iteration of 8. new root = 3.9349391107013\n",
      "Iteration of 9. new root = 2.555329897101462\n",
      "Iteration of 10. new root = 1.5670727075188218\n",
      "Iteration of 11. new root = 0.8144310658143958\n",
      "Iteration of 12. new root = 0.2585853026742472\n",
      "Iteration of 13. new root = 0.08490668430507048\n",
      "the root of equation is: 0.08490668430507048\n"
     ]
    }
   ],
   "source": [
    "#Newton Raphson\n",
    "import numpy as np\n",
    "\n",
    "def f(x):\n",
    "    return 5*x**3 - 3*x**2 + 12*x -1\n",
    "\n",
    "def g(x):\n",
    "    return 15*x**2 - 6*x + 12\n",
    "\n",
    "def newton_raphson(x0, tolerate = 0.0083, iter = 15):\n",
    "    for i in range(iter):\n",
    "        x1 = x0 - f(x0)/g(x0)\n",
    "        print(f'Iteration of {i+1}. new root = {x1}')\n",
    "        if np.abs(f(x1)) < tolerate:\n",
    "            print(f'the root of equation is: {x1}')\n",
    "            return\n",
    "        x0 = x1\n",
    "    print(\"Maximum iterations reached. Root not found within the tolerate\")\n",
    "\n",
    "x_initial = 100\n",
    "newton_raphson(x_initial, tolerate= 0.0083, iter = 15)"
   ]
  },
  {
   "cell_type": "code",
   "execution_count": 16,
   "metadata": {},
   "outputs": [
    {
     "name": "stdout",
     "output_type": "stream",
     "text": [
      "Left : 1090.5905872553105\n",
      "Right : 1129.5293627655146\n",
      "Mid : 1109.970012494794\n"
     ]
    }
   ],
   "source": [
    "#Riemann Integral\n",
    "import numpy as np\n",
    "\n",
    "def f(x):\n",
    "    return 4*x**2 + 5*x - 1\n",
    "\n",
    "x1 = 3\n",
    "x2 = 9\n",
    "n = 50\n",
    "\n",
    "lebar_kotak = (x2-x1) / (n-1)\n",
    "\n",
    "x = np.linspace(x1,x2,n)\n",
    "y = f(x)\n",
    "\n",
    "left = lebar_kotak * sum(y[0:n-1])\n",
    "right = lebar_kotak * sum(y[1:n])\n",
    "\n",
    "print(f'Left : {left}')\n",
    "print(f'Right : {right}')\n",
    "\n",
    "x_mid = (x[0:n-1] + x[1:n]) / 2\n",
    "y_mid = f(x_mid)\n",
    "riemann = lebar_kotak * sum(y_mid)\n",
    "print(f'Mid : {riemann}')"
   ]
  },
  {
   "cell_type": "code",
   "execution_count": 17,
   "metadata": {},
   "outputs": [
    {
     "name": "stdout",
     "output_type": "stream",
     "text": [
      "1110.0599750104125\n"
     ]
    }
   ],
   "source": [
    "#Trapezoidal Rule\n",
    "import numpy as np\n",
    "\n",
    "def f(x):\n",
    "    return 4*x**2 + 5*x - 1\n",
    "\n",
    "x1 = 3\n",
    "x2 = 9\n",
    "n = 50\n",
    "\n",
    "lebar_kotak = (x2-x1) / (n-1)\n",
    "\n",
    "x = np.linspace(x1,x2,n)\n",
    "y = f(x)\n",
    "\n",
    "trapezoid = (y[0] + 2*sum(y[1:n-1]) + y[n-1]) * lebar_kotak/2\n",
    "print(trapezoid)"
   ]
  }
 ],
 "metadata": {
  "kernelspec": {
   "display_name": "Python 3",
   "language": "python",
   "name": "python3"
  },
  "language_info": {
   "codemirror_mode": {
    "name": "ipython",
    "version": 3
   },
   "file_extension": ".py",
   "mimetype": "text/x-python",
   "name": "python",
   "nbconvert_exporter": "python",
   "pygments_lexer": "ipython3",
   "version": "3.11.9"
  }
 },
 "nbformat": 4,
 "nbformat_minor": 2
}
