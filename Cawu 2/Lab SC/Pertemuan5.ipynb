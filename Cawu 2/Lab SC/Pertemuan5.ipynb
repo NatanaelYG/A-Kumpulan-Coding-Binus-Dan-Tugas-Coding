{
 "cells": [
  {
   "cell_type": "code",
   "execution_count": 1,
   "metadata": {},
   "outputs": [],
   "source": [
    "# Riemann\n",
    "# Menghitung luas di bawah kurva"
   ]
  },
  {
   "cell_type": "code",
   "execution_count": 2,
   "metadata": {},
   "outputs": [],
   "source": [
    "# y = x^2\n",
    "\n",
    "import numpy as np\n",
    "\n",
    "def f(x):\n",
    "    return x**2\n"
   ]
  },
  {
   "cell_type": "code",
   "execution_count": 3,
   "metadata": {},
   "outputs": [
    {
     "name": "stdout",
     "output_type": "stream",
     "text": [
      "[0. 2. 4. 6. 8.]\n",
      "[ 0.  4. 16. 36. 64.]\n"
     ]
    }
   ],
   "source": [
    "# Menentukan lower limit dan upper limit\n",
    "x1 = 0\n",
    "x2 = 8\n",
    "\n",
    "# Menentukan jumlah titik\n",
    "# jumlah kotak = jumlah titik - 1\n",
    "n = 5\n",
    "\n",
    "# mencari lebar kotak\n",
    "lebar_kotak = (x2-x1) / (n - 1) \n",
    "\n",
    "# Mencari koordinat x\n",
    "x  = np.linspace(x1, x2, n)\n",
    "print(x)\n",
    "\n",
    "# Menghitung y\n",
    "y = f(x)\n",
    "print(y)"
   ]
  },
  {
   "cell_type": "code",
   "execution_count": 7,
   "metadata": {},
   "outputs": [
    {
     "name": "stdout",
     "output_type": "stream",
     "text": [
      "112.0\n",
      "240.0\n",
      "168.0\n"
     ]
    }
   ],
   "source": [
    "#Left Riemann\n",
    "#slicing index ke duanya exclusive\n",
    "left_riemann = lebar_kotak * sum(y[0:n-1])\n",
    "print(left_riemann)\n",
    "\n",
    "#right Riemann\n",
    "right_riemann = lebar_kotak * sum(y[1:n])\n",
    "print(right_riemann)\n",
    "\n",
    "#mid Riemann\n",
    "x_mid = (x[0:n-1] + x[1:n]) / 2\n",
    "y_mid = f(x_mid)\n",
    "mid_riemann = lebar_kotak * sum(y_mid)\n",
    "print(mid_riemann)"
   ]
  },
  {
   "cell_type": "code",
   "execution_count": 11,
   "metadata": {},
   "outputs": [
    {
     "name": "stdout",
     "output_type": "stream",
     "text": [
      "120.0\n",
      "3.141592653589793\n",
      "0.0\n"
     ]
    }
   ],
   "source": [
    "# Trapezoid\n",
    "# Luas : (a + b) / 2 \n",
    "trapezoid = (y[0] + sum(y[1:n-1]) + y[n-1]) * lebar_kotak / 2\n",
    "print(trapezoid)"
   ]
  },
  {
   "cell_type": "code",
   "execution_count": null,
   "metadata": {},
   "outputs": [
    {
     "ename": "",
     "evalue": "",
     "output_type": "error",
     "traceback": [
      "\u001b[1;31mRunning cells with 'Python 3.7.6' requires the ipykernel package.\n",
      "\u001b[1;31mRun the following command to install 'ipykernel' into the Python environment. \n",
      "\u001b[1;31mCommand: 'c:/Users/natan/AppData/Local/Programs/Python/Python37/python.exe -m pip install ipykernel -U --user --force-reinstall'"
     ]
    }
   ],
   "source": [
    "import matplotlib.pyplot as plt\n",
    "\n",
    "# Create a simple diagram to illustrate how the internet works\n",
    "fig, ax = plt.subplots(figsize=(12, 8))\n",
    "\n",
    "# Adding elements to the diagram\n",
    "elements = {\n",
    "    \"User Device\": (1, 5),\n",
    "    \"ISP\": (3, 5),\n",
    "    \"DNS Server\": (5, 6),\n",
    "    \"Router\": (5, 4),\n",
    "    \"Web Server\": (7, 5),\n",
    "}\n",
    "\n",
    "# Draw arrows\n",
    "arrows = [\n",
    "    (\"User Device\", \"ISP\"),\n",
    "    (\"ISP\", \"Router\"),\n",
    "    (\"ISP\", \"DNS Server\"),\n",
    "    (\"Router\", \"Web Server\"),\n",
    "    (\"Web Server\", \"Router\"),\n",
    "    (\"Router\", \"ISP\"),\n",
    "    (\"ISP\", \"User Device\")\n",
    "]\n",
    "\n",
    "# Plot the elements\n",
    "for element, (x, y) in elements.items():\n",
    "    ax.scatter(x, y, s=500, color='skyblue')\n",
    "    ax.text(x, y, element, ha='center', va='center', fontsize=12, weight='bold')\n",
    "\n",
    "# Plot the arrows\n",
    "for start, end in arrows:\n",
    "    start_x, start_y = elements[start]\n",
    "    end_x, end_y = elements[end]\n",
    "    ax.annotate(\"\", xy=(end_x, end_y), xytext=(start_x, start_y),\n",
    "                arrowprops=dict(arrowstyle=\"->\", color='black'))\n",
    "\n",
    "# Add description\n",
    "description = \"\"\"\n",
    "1. User Device: Your computer or smartphone.\n",
    "2. ISP: Your internet service provider connects you to the internet.\n",
    "3. DNS Server: Translates domain names (e.g., www.example.com) into IP addresses.\n",
    "4. Router: Routes data packets to the appropriate destination.\n",
    "5. Web Server: The server hosting the website or service you are accessing.\n",
    "\"\"\"\n",
    "ax.text(1, 2, description, fontsize=12, bbox=dict(facecolor='white', alpha=0.8))\n",
    "\n",
    "# Hide axes\n",
    "ax.axis('off')\n",
    "\n",
    "# Show plot\n",
    "plt.show()\n",
    "\n"
   ]
  }
 ],
 "metadata": {
  "kernelspec": {
   "display_name": "Python 3",
   "language": "python",
   "name": "python3"
  },
  "language_info": {
   "codemirror_mode": {
    "name": "ipython",
    "version": 3
   },
   "file_extension": ".py",
   "mimetype": "text/x-python",
   "name": "python",
   "nbconvert_exporter": "python",
   "pygments_lexer": "ipython3",
   "version": "3.7.6"
  }
 },
 "nbformat": 4,
 "nbformat_minor": 2
}
